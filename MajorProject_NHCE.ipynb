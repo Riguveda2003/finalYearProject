{
 "cells": [
  {
   "cell_type": "code",
   "execution_count": 2,
   "metadata": {
    "colab": {
     "base_uri": "https://localhost:8080/",
     "height": 384
    },
    "id": "HW7bwhM4scI-",
    "outputId": "898c0665-9f3e-46ed-ad59-333d0680b2e5"
   },
   "outputs": [],
   "source": [
    "import pandas as pd\n",
    "import numpy as np\n",
    "from sklearn.preprocessing import StandardScaler, OneHotEncoder\n",
    "from sklearn.model_selection import train_test_split\n",
    "from wsgiref.simple_server import make_server\n",
    "\n",
    "# Load the earthquake dataset\n",
    "earthquake_data = pd.read_csv('earthquake_1995-2023.csv')\n",
    "\n",
    "# Convert date_time to datetime\n",
    "earthquake_data['date_time'] = pd.to_datetime(earthquake_data['date_time'], format='%d-%m-%Y %H:%M')\n",
    "\n",
    "# Select relevant features\n",
    "features = ['magnitude', 'cdi', 'mmi', 'tsunami', 'sig', 'nst', 'dmin', 'gap', 'depth', 'latitude', 'longitude']\n",
    "\n",
    "# Fill missing values\n",
    "earthquake_data[features] = earthquake_data[features].fillna(earthquake_data[features].mean())\n",
    "\n",
    "# Convert 'alert' column to numerical\n",
    "earthquake_data['alert'] = earthquake_data['alert'].fillna('green')  # Fill missing alerts with 'green'\n",
    "alert_mapping = {'green': 0, 'yellow': 1, 'orange': 2, 'red': 3}\n",
    "earthquake_data['alert'] = earthquake_data['alert'].map(alert_mapping)\n",
    "\n",
    "# Normalize numerical features\n",
    "scaler = StandardScaler()\n",
    "X = scaler.fit_transform(earthquake_data[features])\n",
    "y = earthquake_data['alert']\n",
    "\n",
    "# Split the data into train and test sets\n",
    "X_train, X_test, y_train, y_test = train_test_split(X, y, test_size=0.2, random_state=42)\n",
    "\n",
    "# One-hot encode the target variable\n",
    "encoder = OneHotEncoder()\n",
    "y_train = encoder.fit_transform(y_train.values.reshape(-1, 1)).toarray()\n",
    "y_test = encoder.transform(y_test.values.reshape(-1, 1)).toarray()"
   ]
  },
  {
   "cell_type": "code",
   "execution_count": 10,
   "metadata": {
    "colab": {
     "base_uri": "https://localhost:8080/"
    },
    "id": "CotyBDr-tigb",
    "outputId": "17b23d32-2594-4607-fbf1-f90263f11cb5"
   },
   "outputs": [
    {
     "name": "stdout",
     "output_type": "stream",
     "text": [
      "Epoch 1/21\n",
      "91/91 [==============================] - 8s 26ms/step - loss: 1.1976 - accuracy: 0.5868 - val_loss: 0.9049 - val_accuracy: 0.5760\n",
      "Epoch 2/21\n",
      "91/91 [==============================] - 1s 7ms/step - loss: 0.6918 - accuracy: 0.7452 - val_loss: 0.5371 - val_accuracy: 0.8301\n",
      "Epoch 3/21\n",
      "91/91 [==============================] - 1s 6ms/step - loss: 0.4138 - accuracy: 0.8700 - val_loss: 0.3628 - val_accuracy: 0.8729\n",
      "Epoch 4/21\n",
      "91/91 [==============================] - 1s 7ms/step - loss: 0.3133 - accuracy: 0.8797 - val_loss: 0.3039 - val_accuracy: 0.8936\n",
      "Epoch 5/21\n",
      "91/91 [==============================] - 1s 7ms/step - loss: 0.2683 - accuracy: 0.8959 - val_loss: 0.2719 - val_accuracy: 0.8826\n",
      "Epoch 6/21\n",
      "91/91 [==============================] - 1s 6ms/step - loss: 0.2408 - accuracy: 0.8938 - val_loss: 0.2498 - val_accuracy: 0.8785\n",
      "Epoch 7/21\n",
      "91/91 [==============================] - 1s 8ms/step - loss: 0.2182 - accuracy: 0.9015 - val_loss: 0.2294 - val_accuracy: 0.9019\n",
      "Epoch 8/21\n",
      "91/91 [==============================] - 1s 8ms/step - loss: 0.1958 - accuracy: 0.9198 - val_loss: 0.2222 - val_accuracy: 0.9157\n",
      "Epoch 9/21\n",
      "91/91 [==============================] - 1s 8ms/step - loss: 0.1856 - accuracy: 0.9205 - val_loss: 0.2133 - val_accuracy: 0.9309\n",
      "Epoch 10/21\n",
      "91/91 [==============================] - 1s 8ms/step - loss: 0.1694 - accuracy: 0.9395 - val_loss: 0.1959 - val_accuracy: 0.9323\n",
      "Epoch 11/21\n",
      "91/91 [==============================] - 1s 7ms/step - loss: 0.1604 - accuracy: 0.9402 - val_loss: 0.1914 - val_accuracy: 0.9378\n",
      "Epoch 12/21\n",
      "91/91 [==============================] - 1s 6ms/step - loss: 0.1551 - accuracy: 0.9416 - val_loss: 0.1841 - val_accuracy: 0.9420\n",
      "Epoch 13/21\n",
      "91/91 [==============================] - 1s 10ms/step - loss: 0.1444 - accuracy: 0.9485 - val_loss: 0.1717 - val_accuracy: 0.9461\n",
      "Epoch 14/21\n",
      "91/91 [==============================] - 1s 8ms/step - loss: 0.1360 - accuracy: 0.9519 - val_loss: 0.1693 - val_accuracy: 0.9489\n",
      "Epoch 15/21\n",
      "91/91 [==============================] - 1s 10ms/step - loss: 0.1314 - accuracy: 0.9561 - val_loss: 0.1690 - val_accuracy: 0.9489\n",
      "Epoch 16/21\n",
      "91/91 [==============================] - 1s 9ms/step - loss: 0.1245 - accuracy: 0.9564 - val_loss: 0.1570 - val_accuracy: 0.9517\n",
      "Epoch 17/21\n",
      "91/91 [==============================] - 1s 7ms/step - loss: 0.1184 - accuracy: 0.9616 - val_loss: 0.1528 - val_accuracy: 0.9503\n",
      "Epoch 18/21\n",
      "91/91 [==============================] - 1s 8ms/step - loss: 0.1104 - accuracy: 0.9644 - val_loss: 0.1518 - val_accuracy: 0.9530\n",
      "Epoch 19/21\n",
      "91/91 [==============================] - 1s 7ms/step - loss: 0.1081 - accuracy: 0.9620 - val_loss: 0.1411 - val_accuracy: 0.9544\n",
      "Epoch 20/21\n",
      "91/91 [==============================] - 1s 6ms/step - loss: 0.1052 - accuracy: 0.9647 - val_loss: 0.1402 - val_accuracy: 0.9572\n",
      "Epoch 21/21\n",
      "91/91 [==============================] - 1s 7ms/step - loss: 0.1010 - accuracy: 0.9658 - val_loss: 0.1329 - val_accuracy: 0.9613\n"
     ]
    }
   ],
   "source": [
    "from tensorflow.keras.models import Sequential\n",
    "from tensorflow.keras.layers import LSTM, Dense, Dropout\n",
    "import matplotlib.pyplot as plt\n",
    "\n",
    "# Reshape the data for LSTM\n",
    "X_train_reshaped = np.reshape(X_train, (X_train.shape[0], 1, X_train.shape[1]))\n",
    "X_test_reshaped = np.reshape(X_test, (X_test.shape[0], 1, X_test.shape[1]))\n",
    "\n",
    "# Build the LSTM model\n",
    "model = Sequential()\n",
    "#Input Layer\n",
    "model.add(LSTM(50, return_sequences=True, input_shape=(1, X_train.shape[1])))\n",
    "\n",
    "#Hidden Layer\n",
    "model.add(Dropout(0.2))\n",
    "model.add(LSTM(50))\n",
    "model.add(Dropout(0.2))\n",
    "\n",
    "#Output Layer\n",
    "model.add(Dense(y_train.shape[1], activation='softmax'))\n",
    "\n",
    "\n",
    "model.compile(optimizer='adam', loss='categorical_crossentropy', metrics=['accuracy'])\n",
    "\n",
    "# Train the model\n",
    "history = model.fit(X_train_reshaped, y_train, epochs=21, batch_size=32, validation_data=(X_test_reshaped, y_test))\n"
   ]
  },
  {
   "cell_type": "code",
   "execution_count": 12,
   "metadata": {
    "colab": {
     "base_uri": "https://localhost:8080/"
    },
    "id": "dSigondht2cL",
    "outputId": "4ee288ed-71bd-47ac-df78-614c2ba59fd5"
   },
   "outputs": [
    {
     "name": "stderr",
     "output_type": "stream",
     "text": [
      "C:\\Users\\RANJIT KUMAR\\anaconda3\\Lib\\site-packages\\keras\\src\\engine\\training.py:3000: UserWarning: You are saving your model as an HDF5 file via `model.save()`. This file format is considered legacy. We recommend using instead the native Keras format, e.g. `model.save('my_model.keras')`.\n",
      "  saving_api.save_model(\n"
     ]
    }
   ],
   "source": [
    "import pickle\n",
    "\n",
    "# Save the model\n",
    "# Replace this line where you save your model as HDF5:\n",
    "model.save('natural_disaster_lstm_model.h5')\n",
    "# Save the scaler and encoder\n",
    "with open('scaler.pkl', 'wb') as f:\n",
    "    pickle.dump(scaler, f)\n",
    "with open('encoder.pkl', 'wb') as f:\n",
    "    pickle.dump(encoder, f)"
   ]
  },
  {
   "cell_type": "code",
   "execution_count": 19,
   "metadata": {
    "colab": {
     "base_uri": "https://localhost:8080/",
     "height": 472
    },
    "id": "Z4yu9g-6t9LE",
    "outputId": "35970464-fa86-4f3f-f0c7-a582e62f0744"
   },
   "outputs": [
    {
     "name": "stdout",
     "output_type": "stream",
     "text": [
      "23/23 [==============================] - 2s 6ms/step - loss: 0.1266 - accuracy: 0.9586\n",
      "Test Accuracy: 95.86%\n"
     ]
    },
    {
     "data": {
      "image/png": "[encoded data removed]",
      "text/plain": [
       "<Figure size 1200x600 with 2 Axes>"
      ]
     },
     "metadata": {},
     "output_type": "display_data"
    }
   ],
   "source": [
    "# Evaluate the model\n",
    "loss, accuracy = model.evaluate(X_test_reshaped, y_test)\n",
    "print(f'Test Accuracy: {accuracy * 100:.2f}%')\n",
    "\n",
    "# Plot training & validation accuracy and loss values\n",
    "plt.figure(figsize=(12, 6))\n",
    "\n",
    "plt.subplot(1, 2, 1)\n",
    "plt.plot(history.history['accuracy'])\n",
    "plt.plot(history.history['val_accuracy'])\n",
    "plt.title('Model accuracy')\n",
    "plt.ylabel('Accuracy')\n",
    "plt.xlabel('Epoch')\n",
    "plt.legend(['Train', 'Test'], loc='upper left')\n",
    "plt.savefig('new_accuracy_plot.png')\n",
    "\n",
    "plt.subplot(1, 2, 2)\n",
    "plt.plot(history.history['loss'])\n",
    "plt.plot(history.history['val_loss'])\n",
    "plt.title('Model loss')\n",
    "plt.ylabel('Loss')\n",
    "plt.xlabel('Epoch')\n",
    "plt.legend(['Train', 'Test'], loc='upper left')\n",
    "plt.savefig('new_loss_plot.png')\n"
   ]
  },
  {
   "cell_type": "code",
   "execution_count": 20,
   "metadata": {
    "colab": {
     "base_uri": "https://localhost:8080/"
    },
    "id": "RruKJL-fzBhx",
    "outputId": "aca883a8-4eaa-44db-a4cb-0fc7c329d5f8"
   },
   "outputs": [
    {
     "name": "stdout",
     "output_type": "stream",
     "text": [
      "0    904\n",
      "1    904\n",
      "2    904\n",
      "3    904\n",
      "Name: alert, dtype: int64\n"
     ]
    }
   ],
   "source": [
    "from sklearn.utils import resample\n",
    "\n",
    "# Separate majority and minority classes\n",
    "df_majority = earthquake_data[earthquake_data.alert == 0]\n",
    "df_minority1 = earthquake_data[earthquake_data.alert == 1]\n",
    "df_minority2 = earthquake_data[earthquake_data.alert == 2]\n",
    "df_minority3 = earthquake_data[earthquake_data.alert == 3]\n",
    "\n",
    "# Upsample minority classes\n",
    "df_minority1_upsampled = resample(df_minority1,\n",
    "                                 replace=True,     # sample with replacement\n",
    "                                 n_samples=len(df_majority),    # to match majority class\n",
    "                                 random_state=42) # reproducible results\n",
    "\n",
    "df_minority2_upsampled = resample(df_minority2,\n",
    "                                 replace=True,     # sample with replacement\n",
    "                                 n_samples=len(df_majority),    # to match majority class\n",
    "                                 random_state=42) # reproducible results\n",
    "\n",
    "df_minority3_upsampled = resample(df_minority3,\n",
    "                                 replace=True,     # sample with replacement\n",
    "                                 n_samples=len(df_majority),    # to match majority class\n",
    "                                 random_state=42) # reproducible results\n",
    "\n",
    "# Combine majority class with upsampled minority classes\n",
    "df_upsampled = pd.concat([df_majority, df_minority1_upsampled, df_minority2_upsampled, df_minority3_upsampled])\n",
    "\n",
    "# Display new class counts\n",
    "print(df_upsampled['alert'].value_counts())\n"
   ]
  },
  {
   "cell_type": "code",
   "execution_count": 21,
   "metadata": {
    "colab": {
     "base_uri": "https://localhost:8080/"
    },
    "id": "l62Ivhiw7Qkp",
    "outputId": "4ccba812-7b04-46c1-c1a4-1b4295983513"
   },
   "outputs": [
    {
     "name": "stdout",
     "output_type": "stream",
     "text": [
      "Epoch 1/20\n",
      "91/91 [==============================] - 9s 23ms/step - loss: 1.1859 - accuracy: 0.6186 - val_loss: 0.8918 - val_accuracy: 0.6423\n",
      "Epoch 2/20\n",
      "91/91 [==============================] - 1s 7ms/step - loss: 0.6795 - accuracy: 0.7628 - val_loss: 0.5370 - val_accuracy: 0.8191\n",
      "Epoch 3/20\n",
      "91/91 [==============================] - 1s 8ms/step - loss: 0.4162 - accuracy: 0.8683 - val_loss: 0.3635 - val_accuracy: 0.8757\n",
      "Epoch 4/20\n",
      "91/91 [==============================] - 1s 7ms/step - loss: 0.3145 - accuracy: 0.8811 - val_loss: 0.3089 - val_accuracy: 0.8812\n",
      "Epoch 5/20\n",
      "91/91 [==============================] - 1s 6ms/step - loss: 0.2716 - accuracy: 0.8876 - val_loss: 0.2802 - val_accuracy: 0.8757\n",
      "Epoch 6/20\n",
      "91/91 [==============================] - 1s 6ms/step - loss: 0.2413 - accuracy: 0.8914 - val_loss: 0.2510 - val_accuracy: 0.8840\n",
      "Epoch 7/20\n",
      "91/91 [==============================] - 1s 10ms/step - loss: 0.2241 - accuracy: 0.8970 - val_loss: 0.2326 - val_accuracy: 0.8840\n",
      "Epoch 8/20\n",
      "91/91 [==============================] - 1s 6ms/step - loss: 0.2041 - accuracy: 0.9139 - val_loss: 0.2171 - val_accuracy: 0.9116\n",
      "Epoch 9/20\n",
      "91/91 [==============================] - 1s 7ms/step - loss: 0.1860 - accuracy: 0.9270 - val_loss: 0.2140 - val_accuracy: 0.9185\n",
      "Epoch 10/20\n",
      "91/91 [==============================] - 1s 7ms/step - loss: 0.1754 - accuracy: 0.9302 - val_loss: 0.1991 - val_accuracy: 0.9434\n",
      "Epoch 11/20\n",
      "91/91 [==============================] - 1s 8ms/step - loss: 0.1658 - accuracy: 0.9353 - val_loss: 0.1880 - val_accuracy: 0.9351\n",
      "Epoch 12/20\n",
      "91/91 [==============================] - 1s 6ms/step - loss: 0.1541 - accuracy: 0.9436 - val_loss: 0.1840 - val_accuracy: 0.9448\n",
      "Epoch 13/20\n",
      "91/91 [==============================] - 1s 7ms/step - loss: 0.1445 - accuracy: 0.9526 - val_loss: 0.1731 - val_accuracy: 0.9489\n",
      "Epoch 14/20\n",
      "91/91 [==============================] - 1s 9ms/step - loss: 0.1334 - accuracy: 0.9575 - val_loss: 0.1623 - val_accuracy: 0.9530\n",
      "Epoch 15/20\n",
      "91/91 [==============================] - 1s 8ms/step - loss: 0.1332 - accuracy: 0.9589 - val_loss: 0.1584 - val_accuracy: 0.9489\n",
      "Epoch 16/20\n",
      "91/91 [==============================] - 1s 6ms/step - loss: 0.1205 - accuracy: 0.9589 - val_loss: 0.1610 - val_accuracy: 0.9544\n",
      "Epoch 17/20\n",
      "91/91 [==============================] - 1s 7ms/step - loss: 0.1149 - accuracy: 0.9616 - val_loss: 0.1489 - val_accuracy: 0.9558\n",
      "Epoch 18/20\n",
      "91/91 [==============================] - 1s 8ms/step - loss: 0.1187 - accuracy: 0.9592 - val_loss: 0.1486 - val_accuracy: 0.9558\n",
      "Epoch 19/20\n",
      "91/91 [==============================] - 1s 6ms/step - loss: 0.1074 - accuracy: 0.9644 - val_loss: 0.1467 - val_accuracy: 0.9572\n",
      "Epoch 20/20\n",
      "91/91 [==============================] - 1s 6ms/step - loss: 0.0990 - accuracy: 0.9692 - val_loss: 0.1381 - val_accuracy: 0.9586\n",
      "23/23 [==============================] - 0s 4ms/step - loss: 0.1381 - accuracy: 0.9586\n",
      "Test Accuracy: 95.86%\n",
      "23/23 [==============================] - 2s 3ms/step\n",
      "Predicted: 3, Actual: 3\n",
      "Predicted: 1, Actual: 1\n",
      "Predicted: 3, Actual: 3\n",
      "Predicted: 2, Actual: 2\n",
      "Predicted: 2, Actual: 2\n",
      "Predicted: 1, Actual: 1\n",
      "Predicted: 0, Actual: 0\n",
      "Predicted: 1, Actual: 1\n",
      "Predicted: 2, Actual: 2\n",
      "Predicted: 3, Actual: 3\n",
      "Calculated Accuracy: 95.86%\n",
      "1/1 [==============================] - 0s 55ms/step\n",
      "Green Alert Example Prediction: 1\n"
     ]
    },
    {
     "name": "stderr",
     "output_type": "stream",
     "text": [
      "C:\\Users\\RANJIT KUMAR\\anaconda3\\Lib\\site-packages\\sklearn\\base.py:464: UserWarning: X does not have valid feature names, but StandardScaler was fitted with feature names\n",
      "  warnings.warn(\n",
      "C:\\Users\\RANJIT KUMAR\\anaconda3\\Lib\\site-packages\\sklearn\\base.py:464: UserWarning: X does not have valid feature names, but StandardScaler was fitted with feature names\n",
      "  warnings.warn(\n"
     ]
    },
    {
     "name": "stdout",
     "output_type": "stream",
     "text": [
      "1/1 [==============================] - 0s 39ms/step\n",
      "Yellow Alert Example Prediction: 1\n",
      "1/1 [==============================] - 0s 24ms/step\n",
      "Orange Alert Example Prediction: 1\n"
     ]
    },
    {
     "name": "stderr",
     "output_type": "stream",
     "text": [
      "C:\\Users\\RANJIT KUMAR\\anaconda3\\Lib\\site-packages\\sklearn\\base.py:464: UserWarning: X does not have valid feature names, but StandardScaler was fitted with feature names\n",
      "  warnings.warn(\n",
      "C:\\Users\\RANJIT KUMAR\\anaconda3\\Lib\\site-packages\\sklearn\\base.py:464: UserWarning: X does not have valid feature names, but StandardScaler was fitted with feature names\n",
      "  warnings.warn(\n"
     ]
    },
    {
     "name": "stdout",
     "output_type": "stream",
     "text": [
      "1/1 [==============================] - 0s 38ms/step\n",
      "Red Alert Example Prediction: 1\n"
     ]
    }
   ],
   "source": [
    "# Prepare the data\n",
    "X = df_upsampled[features]\n",
    "y = df_upsampled['alert']\n",
    "\n",
    "# Normalize numerical features\n",
    "scaler = StandardScaler()\n",
    "X = scaler.fit_transform(X)\n",
    "\n",
    "# One-hot encode the target variable\n",
    "encoder = OneHotEncoder()\n",
    "y = encoder.fit_transform(y.values.reshape(-1, 1)).toarray()\n",
    "\n",
    "# Split the data into train and test sets\n",
    "X_train, X_test, y_train, y_test = train_test_split(X, y, test_size=0.2, random_state=42)\n",
    "\n",
    "# Reshape the data for LSTM\n",
    "X_train_reshaped = np.reshape(X_train, (X_train.shape[0], 1, X_train.shape[1]))\n",
    "X_test_reshaped = np.reshape(X_test, (X_test.shape[0], 1, X_test.shape[1]))\n",
    "\n",
    "# Build and train the model\n",
    "from tensorflow.keras.models import Sequential\n",
    "from tensorflow.keras.layers import LSTM, Dense, Dropout\n",
    "\n",
    "model = Sequential()\n",
    "model.add(LSTM(50, return_sequences=True, input_shape=(1, X_train.shape[1])))\n",
    "model.add(Dropout(0.2))\n",
    "model.add(LSTM(50))\n",
    "model.add(Dropout(0.2))\n",
    "model.add(Dense(y_train.shape[1], activation='softmax'))\n",
    "\n",
    "model.compile(optimizer='adam', loss='categorical_crossentropy', metrics=['accuracy'])\n",
    "\n",
    "# Train the model\n",
    "history = model.fit(X_train_reshaped, y_train, epochs=20, batch_size=32, validation_data=(X_test_reshaped, y_test))\n",
    "\n",
    "# Evaluate the model\n",
    "loss, accuracy = model.evaluate(X_test_reshaped, y_test)\n",
    "print(f'Test Accuracy: {accuracy * 100:.2f}%')\n",
    "\n",
    "# Make predictions on the test set\n",
    "predictions = model.predict(X_test_reshaped)\n",
    "\n",
    "# Convert predictions back to original labels\n",
    "predicted_labels = encoder.inverse_transform(predictions)\n",
    "\n",
    "# Compare with actual labels\n",
    "actual_labels = encoder.inverse_transform(y_test)\n",
    "\n",
    "# Print some sample predictions and actual values\n",
    "for i in range(10):\n",
    "    print(f'Predicted: {predicted_labels[i][0]}, Actual: {actual_labels[i][0]}')\n",
    "\n",
    "# Calculate and print accuracy\n",
    "correct_predictions = sum(predicted_labels.flatten() == actual_labels.flatten())\n",
    "total_predictions = len(actual_labels)\n",
    "accuracy = correct_predictions / total_predictions\n",
    "print(f'Calculated Accuracy: {accuracy * 100:.2f}%')\n",
    "\n",
    "# Define different sample inputs to test various alert levels\n",
    "sample_inputs = [\n",
    "    {\n",
    "        'description': 'Green Alert Example',\n",
    "        'data': {\n",
    "            'magnitude': 2.5,\n",
    "            'cdi': 1.0,\n",
    "            'mmi': 1.5,\n",
    "            'tsunami': 0,\n",
    "            'sig': 50,\n",
    "            'nst': 10,\n",
    "            'dmin': 0.1,\n",
    "            'gap': 180,\n",
    "            'depth': 5.0,\n",
    "            'latitude': 34.0522,\n",
    "            'longitude': -118.2437\n",
    "        }\n",
    "    },\n",
    "    {\n",
    "        'description': 'Yellow Alert Example',\n",
    "        'data': {\n",
    "            'magnitude': 4.5,\n",
    "            'cdi': 3.0,\n",
    "            'mmi': 3.5,\n",
    "            'tsunami': 0,\n",
    "            'sig': 150,\n",
    "            'nst': 20,\n",
    "            'dmin': 0.2,\n",
    "            'gap': 90,\n",
    "            'depth': 10.0,\n",
    "            'latitude': 37.7749,\n",
    "            'longitude': -122.4194\n",
    "        }\n",
    "    },\n",
    "    {\n",
    "        'description': 'Orange Alert Example',\n",
    "        'data': {\n",
    "            'magnitude': 6.0,\n",
    "            'cdi': 5.0,\n",
    "            'mmi': 5.5,\n",
    "            'tsunami': 0,\n",
    "            'sig': 400,\n",
    "            'nst': 30,\n",
    "            'dmin': 0.3,\n",
    "            'gap': 60,\n",
    "            'depth': 15.0,\n",
    "            'latitude': 40.7128,\n",
    "            'longitude': -74.0060\n",
    "        }\n",
    "    },\n",
    "    {\n",
    "        'description': 'Red Alert Example',\n",
    "        'data': {\n",
    "            'magnitude': 7.5,\n",
    "            'cdi': 7.0,\n",
    "            'mmi': 7.5,\n",
    "            'tsunami': 1,\n",
    "            'sig': 700,\n",
    "            'nst': 40,\n",
    "            'dmin': 0.5,\n",
    "            'gap': 30,\n",
    "            'depth': 20.0,\n",
    "            'latitude': 35.6895,\n",
    "            'longitude': 139.6917\n",
    "        }\n",
    "    }\n",
    "]\n",
    "\n",
    "# Function to predict alert level for a given input\n",
    "def predict_alert(input_data):\n",
    "    prepared_data = np.array([input_data[feature] for feature in features]).reshape(1, -1)\n",
    "    scaled_data = scaler.transform(prepared_data)\n",
    "    reshaped_data = np.reshape(scaled_data, (1, 1, scaled_data.shape[1]))\n",
    "    prediction = model.predict(reshaped_data)\n",
    "    predicted_alert = encoder.inverse_transform(prediction)[0][0]\n",
    "    return predicted_alert\n",
    "\n",
    "# Print predictions for each sample input\n",
    "for sample in sample_inputs:\n",
    "    description = sample['description']\n",
    "    input_data = sample['data']\n",
    "    predicted_alert = predict_alert(input_data)\n",
    "    print(f'{description} Prediction: {predicted_alert}')\n"
   ]
  },
  {
   "cell_type": "code",
   "execution_count": 22,
   "metadata": {
    "colab": {
     "base_uri": "https://localhost:8080/"
    },
    "id": "ozN5tfLi-Xs9",
    "outputId": "401b5be3-d549-4149-9d0c-4c3460a36dec"
   },
   "outputs": [
    {
     "name": "stdout",
     "output_type": "stream",
     "text": [
      "Requirement already satisfied: flask-cors in c:\\users\\ranjit kumar\\anaconda3\\lib\\site-packages (4.0.1)\n",
      "Requirement already satisfied: Flask>=0.9 in c:\\users\\ranjit kumar\\anaconda3\\lib\\site-packages (from flask-cors) (2.2.2)\n",
      "Requirement already satisfied: Werkzeug>=2.2.2 in c:\\users\\ranjit kumar\\anaconda3\\lib\\site-packages (from Flask>=0.9->flask-cors) (2.2.3)\n",
      "Requirement already satisfied: Jinja2>=3.0 in c:\\users\\ranjit kumar\\anaconda3\\lib\\site-packages (from Flask>=0.9->flask-cors) (3.1.2)\n",
      "Requirement already satisfied: itsdangerous>=2.0 in c:\\users\\ranjit kumar\\anaconda3\\lib\\site-packages (from Flask>=0.9->flask-cors) (2.0.1)\n",
      "Requirement already satisfied: click>=8.0 in c:\\users\\ranjit kumar\\anaconda3\\lib\\site-packages (from Flask>=0.9->flask-cors) (8.0.4)\n",
      "Requirement already satisfied: colorama in c:\\users\\ranjit kumar\\anaconda3\\lib\\site-packages (from click>=8.0->Flask>=0.9->flask-cors) (0.4.6)\n",
      "Requirement already satisfied: MarkupSafe>=2.0 in c:\\users\\ranjit kumar\\anaconda3\\lib\\site-packages (from Jinja2>=3.0->Flask>=0.9->flask-cors) (2.1.1)\n"
     ]
    }
   ],
   "source": [
    "!pip install flask-cors"
   ]
  },
  {
   "cell_type": "code",
   "execution_count": 23,
   "metadata": {},
   "outputs": [
    {
     "name": "stdout",
     "output_type": "stream",
     "text": [
      "Requirement already satisfied: gunicorn in c:\\users\\ranjit kumar\\anaconda3\\lib\\site-packages (22.0.0)\n",
      "Requirement already satisfied: packaging in c:\\users\\ranjit kumar\\anaconda3\\lib\\site-packages (from gunicorn) (23.0)\n"
     ]
    }
   ],
   "source": [
    "!pip install gunicorn"
   ]
  },
  {
   "cell_type": "code",
   "execution_count": 24,
   "metadata": {
    "colab": {
     "base_uri": "https://localhost:8080/"
    },
    "id": "sclT-SfH-TSc",
    "outputId": "ede00a48-b07b-4479-d716-bb3807f7194f"
   },
   "outputs": [
    {
     "name": "stdout",
     "output_type": "stream",
     "text": [
      " * Serving Flask app '__main__'\n",
      " * Debug mode: on\n"
     ]
    },
    {
     "name": "stderr",
     "output_type": "stream",
     "text": [
      "WARNING: This is a development server. Do not use it in a production deployment. Use a production WSGI server instead.\n",
      " * Running on http://127.0.0.1:5000\n",
      "Press CTRL+C to quit\n",
      " * Restarting with watchdog (windowsapi)\n"
     ]
    },
    {
     "ename": "SystemExit",
     "evalue": "1",
     "output_type": "error",
     "traceback": [
      "An exception has occurred, use %tb to see the full traceback.\n",
      "\u001b[1;31mSystemExit\u001b[0m\u001b[1;31m:\u001b[0m 1\n"
     ]
    },
    {
     "name": "stderr",
     "output_type": "stream",
     "text": [
      "C:\\Users\\RANJIT KUMAR\\anaconda3\\Lib\\site-packages\\IPython\\core\\interactiveshell.py:3513: UserWarning: To exit: use 'exit', 'quit', or Ctrl-D.\n",
      "  warn(\"To exit: use 'exit', 'quit', or Ctrl-D.\", stacklevel=1)\n"
     ]
    }
   ],
   "source": [
    "from flask import Flask, request, jsonify\n",
    "from flask_cors import CORS\n",
    "from tensorflow.keras.models import load_model\n",
    "import numpy as np\n",
    "import pickle\n",
    "from wsgiref.simple_server import make_server\n",
    "import tensorflow as tb\n",
    "from tensorflow import keras\n",
    "\n",
    "# Initialize Flask app\n",
    "app = Flask(__name__)\n",
    "CORS(app)  # Enable CORS\n",
    "\n",
    "# Load the model and preprocessing objects\n",
    "model = load_model('natural_disaster_lstm_model.h5')\n",
    "with open('scaler.pkl', 'rb') as f:\n",
    "    scaler = pickle.load(f)\n",
    "with open('encoder.pkl', 'rb') as f:\n",
    "    encoder = pickle.load(f)\n",
    "\n",
    "@app.route('/predict', methods=['POST'])\n",
    "def predict():\n",
    "    data = request.json\n",
    "    input_data = np.array([data['magnitude'], data['cdi'], data['mmi'], data['tsunami'], data['sig'], data['nst'], data['dmin'], data['gap'], data['depth'], data['latitude'], data['longitude']])\n",
    "    input_data_scaled = scaler.transform([input_data])\n",
    "    input_data_reshaped = np.reshape(input_data_scaled, (1, 1, input_data_scaled.shape[1]))\n",
    "    prediction = model.predict(input_data_reshaped)\n",
    "    result = encoder.inverse_transform(prediction)[0][0]\n",
    "    return jsonify({'prediction': result})\n",
    "\n",
    "if __name__ == '__main__':\n",
    "    app.run(debug=True)\n"
   ]
  },
  {
   "cell_type": "code",
   "execution_count": null,
   "metadata": {
    "colab": {
     "base_uri": "https://localhost:8080/"
    },
    "id": "zdkRQeyTuFVs",
    "outputId": "3f1dec7d-37d0-4854-e489-16f278183d24"
   },
   "outputs": [],
   "source": [
    "from flask import Flask, request, jsonify\n",
    "from tensorflow.keras.models import load_model\n",
    "import numpy as np\n",
    "import pickle\n",
    "from wsgiref.simple_server import make_server\n",
    "import tensorflow as tf\n",
    "from tensorflow import keras\n",
    "\n",
    "# Initialize Flask app\n",
    "app = Flask(__name__)\n",
    "\n",
    "# Load the model and preprocessing objects\n",
    "model = load_model('natural_disaster_lstm_model.h5')\n",
    "with open('scaler.pkl', 'rb') as f:\n",
    "    scaler = pickle.load(f)\n",
    "with open('encoder.pkl', 'rb') as f:\n",
    "    encoder = pickle.load(f)\n",
    "\n",
    "@app.route('/predict', methods=['POST'])\n",
    "def predict():\n",
    "    data = request.json\n",
    "    input_data = np.array([data['magnitude'], data['cdi'], data['mmi'], data['tsunami'], data['sig'], data['nst'], data['dmin'], data['gap'], data['depth'], data['latitude'], data['longitude']])\n",
    "    input_data_scaled = scaler.transform([input_data])\n",
    "    input_data_reshaped = np.reshape(input_data_scaled, (1, 1, input_data_scaled.shape[1]))\n",
    "    prediction = model.predict(input_data_reshaped)\n",
    "    result = encoder.inverse_transform(prediction)[0][0]\n",
    "    return jsonify({'prediction': result})\n",
    "\n",
    "if __name__ == '__main__':\n",
    "    app.run()\n"
   ]
  },
  {
   "cell_type": "code",
   "execution_count": null,
   "metadata": {
    "id": "fpVVekoY_JNZ"
   },
   "outputs": [],
   "source": [
    "!pip python app.py"
   ]
  },
  {
   "cell_type": "code",
   "execution_count": null,
   "metadata": {
    "id": "QYxfEave2iGz"
   },
   "outputs": [],
   "source": [
    "df_majority = earthquake_data[earthquake_data.alert == 0]\n",
    "df_minority1 = earthquake_data[earthquake_data.alert == 1]\n",
    "df_minority2 = earthquake_data[earthquake_data.alert == 2]\n",
    "df_minority3 = earthquake_data[earthquake_data.alert == 3]"
   ]
  },
  {
   "cell_type": "code",
   "execution_count": null,
   "metadata": {},
   "outputs": [],
   "source": []
  },
  {
   "cell_type": "code",
   "execution_count": null,
   "metadata": {},
   "outputs": [],
   "source": []
  },
  {
   "cell_type": "code",
   "execution_count": null,
   "metadata": {},
   "outputs": [],
   "source": []
  }
 ],
 "metadata": {
  "accelerator": "GPU",
  "colab": {
   "gpuType": "T4",
   "provenance": []
  },
  "kernelspec": {
   "display_name": "Python 3 (ipykernel)",
   "language": "python",
   "name": "python3"
  },
  "language_info": {
   "codemirror_mode": {
    "name": "ipython",
    "version": 3
   },
   "file_extension": ".py",
   "mimetype": "text/x-python",
   "name": "python",
   "nbconvert_exporter": "python",
   "pygments_lexer": "ipython3",
   "version": "3.11.4"
  }
 },
 "nbformat": 4,
 "nbformat_minor": 1
}
